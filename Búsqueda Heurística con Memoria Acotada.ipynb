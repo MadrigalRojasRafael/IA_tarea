{
 "cells": [
  {
   "cell_type": "markdown",
   "metadata": {},
   "source": [
    "<center>\n",
    "\n",
    "# **Búsqueda Heurística con Memoria Acotada**\n",
    "\n",
    "</center>\n",
    "\n",
    "La búsqueda heurística con memoria acotada (BRPM), API (A con prioridad iterativa) y AM (A con memoria) son algoritmos de búsqueda utilizados en la resolución de problemas en inteligencia artificial y planificación. \n",
    "\n",
    "A continuación, te explicaré brevemente en qué consisten estos 3 enfoques:"
   ]
  },
  {
   "cell_type": "markdown",
   "metadata": {},
   "source": [
    "\n",
    "## **Búsqueda Heurística con Memoria Acotada (BRPM):**\n",
    "    BRPM es un enfoque que combina la búsqueda heurística, como A*, con una memoria acotada para almacenar los nodos explorados.\n",
    "    Utiliza una función heurística para estimar el costo restante desde un nodo hasta el objetivo.\n",
    "    A diferencia de A*, que utiliza una cola de prioridad para organizar los nodos a explorar, BRPM utiliza una memoria de tamaño fijo para almacenar los nodos explorados.\n",
    "    Esto significa que BRPM no garantiza la óptima solución, pero puede ser útil en problemas donde la memoria es limitada y se necesita un equilibrio entre la calidad de la solución y los recursos disponibles."
   ]
  },
  {
   "cell_type": "markdown",
   "metadata": {},
   "source": [
    "---\n",
    "## **A\\* con Prioridad Iterativa (A\\*PI):**\n",
    "    API es una variante de A que se utiliza cuando se tiene un límite en el tiempo o la memoria disponible para la búsqueda.\n",
    "    Comienza con un valor de costo inicial (generalmente 0) y aumenta iterativamente este valor en cada iteración.\n",
    "    En cada iteración, API realiza una búsqueda limitada utilizando A hasta que se agota el tiempo o la memoria.\n",
    "    API puede proporcionar soluciones de calidad aceptable en problemas donde A no sería factible debido a restricciones de recursos."
   ]
  },
  {
   "cell_type": "code",
   "execution_count": null,
   "metadata": {},
   "outputs": [],
   "source": [
    "import heapq\n",
    "\n",
    "def astar_pi_search(initial_state, heuristic, is_goal, max_cost):\n",
    "    for cost_limit in range(max_cost):\n",
    "        result = astar_search(initial_state, heuristic, is_goal, cost_limit)\n",
    "        if result is not None:\n",
    "            return result\n",
    "\n",
    "def astar_search(initial_state, heuristic, is_goal, cost_limit):\n",
    "    open_list = [(0, initial_state)]\n",
    "    closed_set = set()\n",
    "    \n",
    "    while open_list:\n",
    "        f, current_state = heapq.heappop(open_list)\n",
    "        \n",
    "        if is_goal(current_state):\n",
    "            return current_state\n",
    "        \n",
    "        if current_state.g >= cost_limit:\n",
    "            continue\n",
    "        \n",
    "        closed_set.add(current_state)\n",
    "        \n",
    "        for action, neighbor_state in expand_state(current_state):\n",
    "            if neighbor_state not in closed_set:\n",
    "                g = current_state.g + action.cost\n",
    "                h = heuristic(neighbor_state)\n",
    "                f = g + h\n",
    "                heapq.heappush(open_list, (f, neighbor_state))\n",
    "    \n",
    "    return None"
   ]
  },
  {
   "cell_type": "markdown",
   "metadata": {},
   "source": [
    "---\n",
    "\n",
    "## **A\\* con Memoria (A\\*M):**\n",
    "    AM es otra variante de A que se enfoca en reducir la memoria utilizada durante la búsqueda.\n",
    "    En A*M, los nodos explorados se almacenan en una memoria de transposición, lo que permite evitar la expansión de los mismos nodos en varias ocasiones.\n",
    "    La memoria de transposición almacena información sobre nodos visitados previamente, como su costo, profundidad y valor heurístico.\n",
    "    A*M puede ser útil en problemas con grandes espacios de búsqueda, ya que reduce la cantidad de nodos explorados, pero aún garantiza la optimalidad de la solución."
   ]
  },
  {
   "cell_type": "code",
   "execution_count": null,
   "metadata": {},
   "outputs": [],
   "source": [
    "import heapq\n",
    "\n",
    "def astar_memory_search(initial_state, heuristic, is_goal):\n",
    "    open_list = [(0, initial_state)]\n",
    "    closed_set = set()\n",
    "    transposition_table = {}\n",
    "    \n",
    "    while open_list:\n",
    "        f, current_state = heapq.heappop(open_list)\n",
    "        \n",
    "        if is_goal(current_state):\n",
    "            return current_state\n",
    "        \n",
    "        if current_state in transposition_table and transposition_table[current_state] <= f:\n",
    "            continue\n",
    "        \n",
    "        transposition_table[current_state] = f\n",
    "        closed_set.add(current_state)\n",
    "        \n",
    "        for action, neighbor_state in expand_state(current_state):\n",
    "            if neighbor_state not in closed_set:\n",
    "                g = current_state.g + action.cost\n",
    "                h = heuristic(neighbor_state)\n",
    "                f = g + h\n",
    "                heapq.heappush(open_list, (f, neighbor_state))\n",
    "    \n",
    "    return None"
   ]
  },
  {
   "cell_type": "markdown",
   "metadata": {},
   "source": [
    "--- \n",
    "\n",
    "## **Ejemplos de Uso:**"
   ]
  },
  {
   "cell_type": "code",
   "execution_count": 1,
   "metadata": {},
   "outputs": [
    {
     "name": "stdout",
     "output_type": "stream",
     "text": [
      "A* con Prioridad Iterativa: ['A', 'B', 'C']\n",
      "A* con Memoria: ['A', 'B', 'C']\n"
     ]
    }
   ],
   "source": [
    "import heapq\n",
    "import networkx as nx\n",
    "\n",
    "# Crear un grafo de ejemplo.\n",
    "\n",
    "G = nx.Graph()\n",
    "G.add_edge('A', 'B', weight=1)\n",
    "G.add_edge('B', 'C', weight=2)\n",
    "G.add_edge('A', 'D', weight=3)\n",
    "G.add_edge('D', 'E', weight=1)\n",
    "G.add_edge('E', 'C', weight=2)\n",
    "\n",
    "# Funciones de costo heurístico y verificación de objetivo.\n",
    "def heuristic(node):\n",
    "    # En este ejemplo, la heurística será la distancia estimada a 'C' desde el nodo actual.\n",
    "    return nx.shortest_path_length(G, node, 'C', weight='weight')\n",
    "\n",
    "def is_goal(node):\n",
    "    return node == 'C'\n",
    "\n",
    "# A* con Prioridad Iterativa (A*PI)\n",
    "def astar_pi_search(graph, start, heuristic, is_goal, max_cost):\n",
    "    open_list = [(0, start)]\n",
    "    closed_set = set()\n",
    "\n",
    "    while open_list:\n",
    "        f, current_node = heapq.heappop(open_list)\n",
    "\n",
    "        if is_goal(current_node):\n",
    "            return nx.shortest_path(G, start, current_node, weight='weight')\n",
    "\n",
    "        if current_node in closed_set:\n",
    "            continue\n",
    "\n",
    "        if f > max_cost:\n",
    "            continue\n",
    "\n",
    "        closed_set.add(current_node)\n",
    "\n",
    "        for neighbor in graph.neighbors(current_node):\n",
    "            if neighbor not in closed_set:\n",
    "                g = nx.shortest_path_length(graph, start, neighbor, weight='weight')\n",
    "                h = heuristic(neighbor)\n",
    "                f = g + h\n",
    "                heapq.heappush(open_list, (f, neighbor))\n",
    "\n",
    "    return None\n",
    "\n",
    "# A* con Memoria (A*M)\n",
    "def astar_memory_search(graph, start, heuristic, is_goal):\n",
    "    open_list = [(0, start)]\n",
    "    closed_set = set()\n",
    "    transposition_table = {}\n",
    "\n",
    "    while open_list:\n",
    "        f, current_node = heapq.heappop(open_list)\n",
    "\n",
    "        if is_goal(current_node):\n",
    "            return nx.shortest_path(G, start, current_node, weight='weight')\n",
    "\n",
    "        if current_node in transposition_table and transposition_table[current_node] <= f:\n",
    "            continue\n",
    "\n",
    "        transposition_table[current_node] = f\n",
    "        closed_set.add(current_node)\n",
    "\n",
    "        for neighbor in graph.neighbors(current_node):\n",
    "            if neighbor not in closed_set:\n",
    "                g = nx.shortest_path_length(graph, start, neighbor, weight='weight')\n",
    "                h = heuristic(neighbor)\n",
    "                f = g + h\n",
    "                heapq.heappush(open_list, (f, neighbor))\n",
    "\n",
    "    return None\n",
    "\n",
    "# Uso de A*PI\n",
    "result_api = astar_pi_search(G, 'A', heuristic, is_goal, max_cost=5)\n",
    "print(\"A* con Prioridad Iterativa:\", result_api)\n",
    "\n",
    "# Uso de A*M\n",
    "result_am = astar_memory_search(G, 'A', heuristic, is_goal)\n",
    "print(\"A* con Memoria:\", result_am)"
   ]
  },
  {
   "cell_type": "markdown",
   "metadata": {},
   "source": [
    "---"
   ]
  }
 ],
 "metadata": {
  "kernelspec": {
   "display_name": "Python 3",
   "language": "python",
   "name": "python3"
  },
  "language_info": {
   "codemirror_mode": {
    "name": "ipython",
    "version": 3
   },
   "file_extension": ".py",
   "mimetype": "text/x-python",
   "name": "python",
   "nbconvert_exporter": "python",
   "pygments_lexer": "ipython3",
   "version": "3.11.6"
  }
 },
 "nbformat": 4,
 "nbformat_minor": 2
}
