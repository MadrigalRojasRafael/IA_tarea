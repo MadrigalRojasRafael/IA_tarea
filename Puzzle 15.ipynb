{
 "cells": [
  {
   "cell_type": "markdown",
   "metadata": {},
   "source": [
    "# **Puzzle 15**\n",
    "\n",
    "---"
   ]
  },
  {
   "cell_type": "markdown",
   "metadata": {},
   "source": [
    "### **Descripción del Problema**\n",
    "\n",
    "El **Puzzle 15** es un **juego** clásico en el que debes **deslizar fichas numeradas** en un **tablero** para **ordenarlas** en **orden numérico**, **dejando** un **espacio vacío** para los **movimientos**. \n",
    "\n",
    "El **Puzzle 15** **luce** de la **siguiente manera**:\n",
    "\n",
    "<center>\n",
    "\n",
    "<img src=\"Ejemplo Puzzle 15.png\">\n",
    "\n",
    "</center>\n",
    "\n",
    "En este caso el **Objetivo** de **ordenar** las **fichas** de la **siguiente manera**:\n",
    "\n",
    "<center>\n",
    "\n",
    "<img src=\"Ejemplo Solución Puzzle 15.png\">\n",
    "\n",
    "</center>\n",
    "\n",
    "### **Explicación Matemática**\n",
    "\n",
    "El tablero del rompecabezas se puede representar como una matriz 4x4 (aunque solo 15 de las 16 posiciones están ocupadas).\n",
    "Cada posición en esta matriz tiene un número asociado, y una posición está vacía (representada por 0 en este caso).\n",
    "\n",
    "Para entenderlo desde una perspectiva matemática, podemos definir una permutación como una biyección (correspondencia uno a uno) de un conjunto a sí mismo. En este caso, estamos buscando una permutación del conjunto {1, 2, 3, ..., 15} que nos lleve desde una configuración inicial hasta una configuración final específica.\n",
    "\n",
    "El número total de permutaciones posibles de un conjunto de n elementos es n!. En este caso, hay 15 elementos, por lo que hay 15! (15 factorial) posibles permutaciones para el rompecabezas deslizante de 15 elementos.\n",
    "\n",
    "El objetivo es encontrar una secuencia de movimientos válidos que nos lleve desde una permutación inicial (por ejemplo, una permutación aleatoria de los números del 1 al 15 con un espacio en blanco) hasta una permutación objetivo en la que los números estén ordenados en orden ascendente, con el espacio en blanco en una posición específica.\n",
    "\n",
    "Resolver el rompecabezas implica encontrar una secuencia de movimientos válidos que sea una permutación específica del conjunto {1, 2, 3, ..., 15}. Esto se hace a través de métodos de búsqueda o algoritmos que exploran el espacio de posibles permutaciones hasta encontrar la solución."
   ]
  },
  {
   "cell_type": "code",
   "execution_count": 8,
   "metadata": {},
   "outputs": [
    {
     "name": "stdout",
     "output_type": "stream",
     "text": [
      "Rompecabezas inicial:\n",
      "1 2 3 4\n",
      "5 6 7 8\n",
      "9 10 11 12\n",
      "13 14 15 0\n",
      "\n"
     ]
    }
   ],
   "source": [
    "# Función para imprimir el estado actual del rompecabezas\n",
    "def imprimir_rompecabezas(rompecabezas):\n",
    "    for fila in rompecabezas:\n",
    "        print(' '.join(map(str, fila)))\n",
    "    print()\n",
    "\n",
    "# Función para encontrar la posición de un número en el rompecabezas\n",
    "def encontrar_posicion(rompecabezas, numero):\n",
    "    for i in range(4):\n",
    "        for j in range(4):\n",
    "            if rompecabezas[i][j] == numero:\n",
    "                return i, j\n",
    "\n",
    "# Función para ordenar el rompecabezas\n",
    "def ordenar_rompecabezas():\n",
    "    rompecabezas = [[1, 2, 3, 4], [5, 6, 7, 8], [9, 10, 11, 12], [13, 14, 15, 0]]\n",
    "    objetivo = [[1, 5, 9, 13], [2, 6, 10, 14], [3, 7, 11, 15], [4, 8, 12, 0]]\n",
    "\n",
    "    print(\"Rompecabezas inicial:\")\n",
    "    imprimir_rompecabezas(rompecabezas)\n",
    "\n",
    "    while rompecabezas != objetivo:\n",
    "        for i in range(4):\n",
    "            for j in range(4):\n",
    "                if rompecabezas[i][j] == 0:\n",
    "                    # Encontrar la posición del número que debe ocupar el espacio vacío\n",
    "                    x, y = encontrar_posicion(objetivo, rompecabezas[i][j])\n",
    "                    # Intercambiar el espacio vacío con el número objetivo\n",
    "                    rompecabezas[i][j], rompecabezas[x][y] = rompecabezas[x][y], rompecabezas[i][j]\n",
    "                    break\n",
    "\n",
    "    print(\"Rompecabezas ordenado:\")\n",
    "    imprimir_rompecabezas(rompecabezas)\n",
    "\n",
    "# Llamar a la función principal para ordenar el rompecabezas\n",
    "ordenar_rompecabezas()\n"
   ]
  },
  {
   "cell_type": "markdown",
   "metadata": {},
   "source": [
    "### **Solución**\n",
    "\n",
    "Para **este caso mi Computadora no ha logrado realizar la solución del problema**, pero **si es posible** llegar a la **solución**.\n",
    "\n",
    "---"
   ]
  }
 ],
 "metadata": {
  "kernelspec": {
   "display_name": "Python 3",
   "language": "python",
   "name": "python3"
  },
  "language_info": {
   "codemirror_mode": {
    "name": "ipython",
    "version": 3
   },
   "file_extension": ".py",
   "mimetype": "text/x-python",
   "name": "python",
   "nbconvert_exporter": "python",
   "pygments_lexer": "ipython3",
   "version": "3.11.3"
  },
  "orig_nbformat": 4
 },
 "nbformat": 4,
 "nbformat_minor": 2
}
